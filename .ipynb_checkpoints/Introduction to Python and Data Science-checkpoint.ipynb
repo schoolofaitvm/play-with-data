{
 "cells": [
  {
   "cell_type": "markdown",
   "metadata": {},
   "source": [
    "# Play with Data\n",
    "\n",
    "- ### [What is Data?]()\n",
    "- ### [How can we represent it?]()\n",
    "- ### [Loading data in Python?]()"
   ]
  },
  {
   "cell_type": "markdown",
   "metadata": {},
   "source": [
    "#### What is Data?\n",
    "\n",
    "- Structured (Log information, Database Entries).\n",
    "- Unstructured Data."
   ]
  },
  {
   "cell_type": "markdown",
   "metadata": {},
   "source": [
    "### Data Representations\n",
    "- CSVs\n",
    "- Matrices"
   ]
  },
  {
   "cell_type": "markdown",
   "metadata": {},
   "source": [
    "### Data Loading in python.\n",
    "\n",
    "```\n",
    "file = open(filename, fileflag)\n",
    "## Read the lines\n",
    "## Close the file\n",
    "```"
   ]
  },
  {
   "cell_type": "code",
   "execution_count": 10,
   "metadata": {},
   "outputs": [],
   "source": [
    "# load the csv file : Data/structured_data/test.csv.\n",
    "file = \n",
    "file_data = "
   ]
  },
  {
   "cell_type": "code",
   "execution_count": 37,
   "metadata": {},
   "outputs": [
    {
     "data": {
      "text/plain": [
       "'Loan_ID,Gender,Married,Education,ApplicantIncome,LoanAmount,Property_Area\\nLP001015,Male,Yes,Graduate,5720,110,Urban\\nLP001022,Male,Yes,Graduate,3076,126,Urban\\nLP001031,Male,Yes,Graduate,5000,208,Urban\\nLP001035,Male,Yes,Graduate,2340,100,Urban\\nLP001051,Male,No,Not Graduate,3276,78,Urban\\nLP001054,Male,Yes,Not Graduate,2165,152,Urban\\nLP001055,Female,No,Not Graduate,2226,59,Semiurban\\nLP001056,Male,Yes,Not Graduate,3881,147,Rural\\nLP001059,Male,Yes,Graduate,13633,280,Urban\\nLP001067,Male,No,Not Graduate,2400,123,Semiurban\\nLP001078,Male,No,Not Graduate,3091,90,Urban\\nLP001082,Male,Yes,Graduate,2185,162,Semiurban\\nLP001083,Male,No,Graduate,4166,40,Urban\\nLP001094,Male,Yes,Graduate,12173,166,Semiurban\\nLP001096,Female,No,Graduate,4666,124,Semiurban\\nLP001099,Male,No,Graduate,5667,131,Urban\\n'"
      ]
     },
     "execution_count": 37,
     "metadata": {},
     "output_type": "execute_result"
    }
   ],
   "source": [
    "# Display the file string representation.\n",
    "file_data"
   ]
  },
  {
   "cell_type": "code",
   "execution_count": 39,
   "metadata": {},
   "outputs": [
    {
     "data": {
      "text/plain": [
       "['Loan_ID,Gender,Married,Education,ApplicantIncome,LoanAmount,Property_Area',\n",
       " 'LP001015,Male,Yes,Graduate,5720,110,Urban',\n",
       " 'LP001022,Male,Yes,Graduate,3076,126,Urban',\n",
       " 'LP001031,Male,Yes,Graduate,5000,208,Urban',\n",
       " 'LP001035,Male,Yes,Graduate,2340,100,Urban',\n",
       " 'LP001051,Male,No,Not Graduate,3276,78,Urban',\n",
       " 'LP001054,Male,Yes,Not Graduate,2165,152,Urban',\n",
       " 'LP001055,Female,No,Not Graduate,2226,59,Semiurban',\n",
       " 'LP001056,Male,Yes,Not Graduate,3881,147,Rural',\n",
       " 'LP001059,Male,Yes,Graduate,13633,280,Urban',\n",
       " 'LP001067,Male,No,Not Graduate,2400,123,Semiurban',\n",
       " 'LP001078,Male,No,Not Graduate,3091,90,Urban',\n",
       " 'LP001082,Male,Yes,Graduate,2185,162,Semiurban',\n",
       " 'LP001083,Male,No,Graduate,4166,40,Urban',\n",
       " 'LP001094,Male,Yes,Graduate,12173,166,Semiurban',\n",
       " 'LP001096,Female,No,Graduate,4666,124,Semiurban',\n",
       " 'LP001099,Male,No,Graduate,5667,131,Urban',\n",
       " '']"
      ]
     },
     "execution_count": 39,
     "metadata": {},
     "output_type": "execute_result"
    }
   ],
   "source": [
    "# Split lines into list.\n",
    "file_data_lines = \n",
    "file_data_lines"
   ]
  },
  {
   "cell_type": "code",
   "execution_count": 41,
   "metadata": {},
   "outputs": [
    {
     "data": {
      "text/plain": [
       "['LP001015', 'Male', 'Yes', 'Graduate', '5720', '110', 'Urban']"
      ]
     },
     "execution_count": 41,
     "metadata": {},
     "output_type": "execute_result"
    }
   ],
   "source": [
    "file_data_lines[1].split(',')"
   ]
  },
  {
   "cell_type": "code",
   "execution_count": 21,
   "metadata": {},
   "outputs": [],
   "source": [
    "# Create the final cleaned list.\n",
    "cleaned_file = []\n",
    "# Loop to iterate and process each line."
   ]
  },
  {
   "cell_type": "code",
   "execution_count": null,
   "metadata": {},
   "outputs": [],
   "source": [
    "# Display the cleaned list."
   ]
  },
  {
   "cell_type": "code",
   "execution_count": 31,
   "metadata": {},
   "outputs": [
    {
     "data": {
      "text/plain": [
       "'LP001054'"
      ]
     },
     "execution_count": 31,
     "metadata": {},
     "output_type": "execute_result"
    }
   ],
   "source": [
    "new_list[4][0]"
   ]
  }
 ],
 "metadata": {
  "kernelspec": {
   "display_name": "Python (tensorflow)",
   "language": "python",
   "name": "tensorflow"
  },
  "language_info": {
   "codemirror_mode": {
    "name": "ipython",
    "version": 3
   },
   "file_extension": ".py",
   "mimetype": "text/x-python",
   "name": "python",
   "nbconvert_exporter": "python",
   "pygments_lexer": "ipython3",
   "version": "3.5.5"
  }
 },
 "nbformat": 4,
 "nbformat_minor": 2
}
