{
 "cells": [
  {
   "cell_type": "markdown",
   "metadata": {},
   "source": [
    "# Play with Data\n",
    "\n",
    "- ### [What is Data?]()\n",
    "- ### [Loading data in Python?]()\n",
    "- ### [How can we represent it?]()"
   ]
  },
  {
   "cell_type": "markdown",
   "metadata": {},
   "source": [
    "#### What is Data?\n",
    "\n",
    "- Structured (Log information, Database Entries).\n",
    "- Unstructured Data."
   ]
  },
  {
   "cell_type": "markdown",
   "metadata": {},
   "source": [
    "### Data Representations\n",
    "- CSVs\n",
    "- Matrices"
   ]
  },
  {
   "cell_type": "markdown",
   "metadata": {},
   "source": [
    "### Data Loading in python.\n",
    "\n",
    "```\n",
    "file = open(filename, fileflag)\n",
    "## Read the lines\n",
    "## Close the file\n",
    "```"
   ]
  },
  {
   "cell_type": "code",
   "execution_count": 12,
   "metadata": {},
   "outputs": [],
   "source": [
    "# load the csv file : Data/test.csv.\n",
    "file = open(\"Data/test.csv\", 'r')\n",
    "file_data = file.read()"
   ]
  },
  {
   "cell_type": "code",
   "execution_count": 13,
   "metadata": {
    "scrolled": true
   },
   "outputs": [
    {
     "data": {
      "text/plain": [
       "'Loan_ID,Gender,Married,Education,ApplicantIncome,LoanAmount,Property_Area\\nLP001015,Male,Yes,Graduate,5720,110,Urban\\nLP001022,Male,Yes,Graduate,3076,126,Urban\\nLP001031,Male,Yes,Graduate,5000,208,Urban\\nLP001035,Male,Yes,Graduate,2340,100,Urban\\nLP001051,Male,No,Not Graduate,3276,78,Urban\\nLP001054,Male,Yes,Not Graduate,2165,152,Urban\\nLP001055,Female,No,Not Graduate,2226,59,Semiurban\\nLP001056,Male,Yes,Not Graduate,3881,147,Rural\\nLP001059,Male,Yes,Graduate,13633,280,Urban\\nLP001067,Male,No,Not Graduate,2400,123,Semiurban\\nLP001078,Male,No,Not Graduate,3091,90,Urban\\nLP001082,Male,Yes,Graduate,2185,162,Semiurban\\nLP001083,Male,No,Graduate,4166,40,Urban\\nLP001094,Male,Yes,Graduate,12173,166,Semiurban\\nLP001096,Female,No,Graduate,4666,124,Semiurban\\nLP001099,Male,No,Graduate,5667,131,Urban'"
      ]
     },
     "execution_count": 13,
     "metadata": {},
     "output_type": "execute_result"
    }
   ],
   "source": [
    "# Display the file string representation.\n",
    "file_data"
   ]
  },
  {
   "cell_type": "markdown",
   "metadata": {},
   "source": [
    "### Representing in a List"
   ]
  },
  {
   "cell_type": "code",
   "execution_count": 14,
   "metadata": {},
   "outputs": [
    {
     "data": {
      "text/plain": [
       "['Loan_ID,Gender,Married,Education,ApplicantIncome,LoanAmount,Property_Area',\n",
       " 'LP001015,Male,Yes,Graduate,5720,110,Urban',\n",
       " 'LP001022,Male,Yes,Graduate,3076,126,Urban',\n",
       " 'LP001031,Male,Yes,Graduate,5000,208,Urban',\n",
       " 'LP001035,Male,Yes,Graduate,2340,100,Urban',\n",
       " 'LP001051,Male,No,Not Graduate,3276,78,Urban',\n",
       " 'LP001054,Male,Yes,Not Graduate,2165,152,Urban',\n",
       " 'LP001055,Female,No,Not Graduate,2226,59,Semiurban',\n",
       " 'LP001056,Male,Yes,Not Graduate,3881,147,Rural',\n",
       " 'LP001059,Male,Yes,Graduate,13633,280,Urban',\n",
       " 'LP001067,Male,No,Not Graduate,2400,123,Semiurban',\n",
       " 'LP001078,Male,No,Not Graduate,3091,90,Urban',\n",
       " 'LP001082,Male,Yes,Graduate,2185,162,Semiurban',\n",
       " 'LP001083,Male,No,Graduate,4166,40,Urban',\n",
       " 'LP001094,Male,Yes,Graduate,12173,166,Semiurban',\n",
       " 'LP001096,Female,No,Graduate,4666,124,Semiurban',\n",
       " 'LP001099,Male,No,Graduate,5667,131,Urban']"
      ]
     },
     "execution_count": 14,
     "metadata": {},
     "output_type": "execute_result"
    }
   ],
   "source": [
    "# Split lines into list.\n",
    "file_data_lines = file_data.split('\\n')\n",
    "file_data_lines"
   ]
  },
  {
   "cell_type": "code",
   "execution_count": 16,
   "metadata": {},
   "outputs": [
    {
     "data": {
      "text/plain": [
       "['LP001015', 'Male', 'Yes', 'Graduate', '5720', '110', 'Urban']"
      ]
     },
     "execution_count": 16,
     "metadata": {},
     "output_type": "execute_result"
    }
   ],
   "source": [
    "# Splitting induvidual lines\n",
    "file_data_lines[1].split(',')"
   ]
  },
  {
   "cell_type": "code",
   "execution_count": 17,
   "metadata": {},
   "outputs": [],
   "source": [
    "# Create the final cleaned list.\n",
    "cleaned_file = []\n",
    "# Loop to iterate and process each line.\n",
    "for line in file_data_lines:\n",
    "    processed_line = line.split(',')\n",
    "    cleaned_file.append(processed_line)"
   ]
  },
  {
   "cell_type": "code",
   "execution_count": 18,
   "metadata": {
    "scrolled": false
   },
   "outputs": [
    {
     "data": {
      "text/plain": [
       "[['Loan_ID',\n",
       "  'Gender',\n",
       "  'Married',\n",
       "  'Education',\n",
       "  'ApplicantIncome',\n",
       "  'LoanAmount',\n",
       "  'Property_Area'],\n",
       " ['LP001015', 'Male', 'Yes', 'Graduate', '5720', '110', 'Urban'],\n",
       " ['LP001022', 'Male', 'Yes', 'Graduate', '3076', '126', 'Urban'],\n",
       " ['LP001031', 'Male', 'Yes', 'Graduate', '5000', '208', 'Urban'],\n",
       " ['LP001035', 'Male', 'Yes', 'Graduate', '2340', '100', 'Urban'],\n",
       " ['LP001051', 'Male', 'No', 'Not Graduate', '3276', '78', 'Urban'],\n",
       " ['LP001054', 'Male', 'Yes', 'Not Graduate', '2165', '152', 'Urban'],\n",
       " ['LP001055', 'Female', 'No', 'Not Graduate', '2226', '59', 'Semiurban'],\n",
       " ['LP001056', 'Male', 'Yes', 'Not Graduate', '3881', '147', 'Rural'],\n",
       " ['LP001059', 'Male', 'Yes', 'Graduate', '13633', '280', 'Urban'],\n",
       " ['LP001067', 'Male', 'No', 'Not Graduate', '2400', '123', 'Semiurban'],\n",
       " ['LP001078', 'Male', 'No', 'Not Graduate', '3091', '90', 'Urban'],\n",
       " ['LP001082', 'Male', 'Yes', 'Graduate', '2185', '162', 'Semiurban'],\n",
       " ['LP001083', 'Male', 'No', 'Graduate', '4166', '40', 'Urban'],\n",
       " ['LP001094', 'Male', 'Yes', 'Graduate', '12173', '166', 'Semiurban'],\n",
       " ['LP001096', 'Female', 'No', 'Graduate', '4666', '124', 'Semiurban'],\n",
       " ['LP001099', 'Male', 'No', 'Graduate', '5667', '131', 'Urban']]"
      ]
     },
     "execution_count": 18,
     "metadata": {},
     "output_type": "execute_result"
    }
   ],
   "source": [
    "# Display the cleaned list.\n",
    "cleaned_file"
   ]
  },
  {
   "cell_type": "code",
   "execution_count": 20,
   "metadata": {},
   "outputs": [
    {
     "data": {
      "text/plain": [
       "'LP001054'"
      ]
     },
     "execution_count": 20,
     "metadata": {},
     "output_type": "execute_result"
    }
   ],
   "source": [
    "# Accessing LP001054.\n",
    "# Access a 2D matrix as matrix[row][column].\n",
    "cleaned_file[6][0]"
   ]
  },
  {
   "cell_type": "markdown",
   "metadata": {},
   "source": [
    "### Representing in a Dictionary."
   ]
  },
  {
   "cell_type": "code",
   "execution_count": 49,
   "metadata": {},
   "outputs": [],
   "source": [
    "# Converting the data into a dictionary.\n",
    "# Creating the dicitonary with columns.\n",
    "cols = cleaned_file[0]\n",
    "loan_data_dict = dict.fromkeys(cols)"
   ]
  },
  {
   "cell_type": "code",
   "execution_count": 55,
   "metadata": {},
   "outputs": [],
   "source": [
    "# Initialize the dictionary with empty lists.\n",
    "for column in cols:\n",
    "    loan_data_dict[column] = []"
   ]
  },
  {
   "cell_type": "code",
   "execution_count": 56,
   "metadata": {},
   "outputs": [
    {
     "data": {
      "text/plain": [
       "{'ApplicantIncome': [],\n",
       " 'Education': [],\n",
       " 'Gender': [],\n",
       " 'LoanAmount': [],\n",
       " 'Loan_ID': [],\n",
       " 'Married': [],\n",
       " 'Property_Area': []}"
      ]
     },
     "execution_count": 56,
     "metadata": {},
     "output_type": "execute_result"
    }
   ],
   "source": [
    "# Display the dictionary.\n",
    "loan_data_dict"
   ]
  },
  {
   "cell_type": "code",
   "execution_count": 57,
   "metadata": {},
   "outputs": [],
   "source": [
    "# Append the values to the respective columns.\n",
    "for row in range(1, len(cleaned_file)):\n",
    "    loan_data_dict['Loan_ID'].append(cleaned_file[row][0])\n",
    "    loan_data_dict['Gender'].append(cleaned_file[row][1])\n",
    "    loan_data_dict['Married'].append(cleaned_file[row][2])\n",
    "    loan_data_dict['Education'].append(cleaned_file[row][3])\n",
    "    loan_data_dict['ApplicantIncome'].append(cleaned_file[row][4])\n",
    "    loan_data_dict['LoanAmount'].append(cleaned_file[row][5])\n",
    "    loan_data_dict['Property_Area'].append(cleaned_file[row][6])"
   ]
  },
  {
   "cell_type": "code",
   "execution_count": 61,
   "metadata": {},
   "outputs": [
    {
     "data": {
      "text/plain": [
       "['5720',\n",
       " '3076',\n",
       " '5000',\n",
       " '2340',\n",
       " '3276',\n",
       " '2165',\n",
       " '2226',\n",
       " '3881',\n",
       " '13633',\n",
       " '2400',\n",
       " '3091',\n",
       " '2185',\n",
       " '4166',\n",
       " '12173',\n",
       " '4666',\n",
       " '5667']"
      ]
     },
     "execution_count": 61,
     "metadata": {},
     "output_type": "execute_result"
    }
   ],
   "source": [
    "loan_data_dict['ApplicantIncome']"
   ]
  },
  {
   "cell_type": "markdown",
   "metadata": {},
   "source": [
    "### In conclusion\n",
    "The use of list and Lists and Dictionaries to process data was to give you a very fundamental understanding on how data can be processed and loaded. However, when it comes to huge data, we will need a better and faster framework. Looping poses a serious overhead to performance. We will be discussing more on Numpy and Pandas and discuss how we can load and process data easily and efficiently."
   ]
  }
 ],
 "metadata": {
  "kernelspec": {
   "display_name": "Python (tensorflow)",
   "language": "python",
   "name": "tensorflow"
  },
  "language_info": {
   "codemirror_mode": {
    "name": "ipython",
    "version": 3
   },
   "file_extension": ".py",
   "mimetype": "text/x-python",
   "name": "python",
   "nbconvert_exporter": "python",
   "pygments_lexer": "ipython3",
   "version": "3.5.5"
  }
 },
 "nbformat": 4,
 "nbformat_minor": 2
}
