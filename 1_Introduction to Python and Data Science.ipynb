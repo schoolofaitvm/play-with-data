{
 "cells": [
  {
   "cell_type": "markdown",
   "metadata": {},
   "source": [
    "# Play with Data\n",
    "\n",
    "- ### [What is Data?]()\n",
    "- ### [Loading data in Python?]()\n",
    "- ### [How can we represent it?]()"
   ]
  },
  {
   "cell_type": "markdown",
   "metadata": {},
   "source": [
    "#### What is Data?\n",
    "\n",
    "- Structured (Log information, Database Entries).\n",
    "- Unstructured Data."
   ]
  },
  {
   "cell_type": "markdown",
   "metadata": {},
   "source": [
    "### Data Representations\n",
    "- CSVs\n",
    "- Matrices"
   ]
  },
  {
   "cell_type": "markdown",
   "metadata": {},
   "source": [
    "### Data Loading in python.\n",
    "\n",
    "```\n",
    "file = open(filename, fileflag)\n",
    "## Read the lines\n",
    "## Close the file\n",
    "```"
   ]
  },
  {
   "cell_type": "code",
   "execution_count": 1,
   "metadata": {},
   "outputs": [],
   "source": [
    "# load the csv file : Data/test.csv.\n",
    "file = open(\"Data/test.csv\", 'r')\n",
    "file_data = file.read()"
   ]
  },
  {
   "cell_type": "code",
   "execution_count": 2,
   "metadata": {
    "scrolled": true
   },
   "outputs": [
    {
     "data": {
      "text/plain": [
       "'Loan_ID,Gender,Married,Education,ApplicantIncome,LoanAmount,Property_Area\\nLP001015,Male,Yes,Graduate,5720,110,Urban\\nLP001022,Male,Yes,Graduate,3076,126,Urban\\nLP001031,Male,Yes,Graduate,5000,208,Urban\\nLP001035,Male,Yes,Graduate,2340,100,Urban\\nLP001051,Male,No,Not Graduate,3276,78,Urban\\nLP001054,Male,Yes,Not Graduate,2165,152,Urban\\nLP001055,Female,No,Not Graduate,2226,59,Semiurban\\nLP001056,Male,Yes,Not Graduate,3881,147,Rural\\nLP001059,Male,Yes,Graduate,13633,280,Urban\\nLP001067,Male,No,Not Graduate,2400,123,Semiurban\\nLP001078,Male,No,Not Graduate,3091,90,Urban\\nLP001082,Male,Yes,Graduate,2185,162,Semiurban\\nLP001083,Male,No,Graduate,4166,40,Urban\\nLP001094,Male,Yes,Graduate,12173,166,Semiurban\\nLP001096,Female,No,Graduate,4666,124,Semiurban\\nLP001099,Male,No,Graduate,5667,131,Urban'"
      ]
     },
     "execution_count": 2,
     "metadata": {},
     "output_type": "execute_result"
    }
   ],
   "source": [
    "# Display the file string representation.\n",
    "file_data"
   ]
  },
  {
   "cell_type": "markdown",
   "metadata": {},
   "source": [
    "#### Data\n",
    "As we can see, the data is unstructured. This is because '\\n' or newline special character is encoded as it is instead of opening a new line. This character helps us split the string into lines. We just need to split the data at every newline character that we encounter."
   ]
  },
  {
   "cell_type": "markdown",
   "metadata": {},
   "source": [
    "### Representing in a List"
   ]
  },
  {
   "cell_type": "code",
   "execution_count": 3,
   "metadata": {},
   "outputs": [
    {
     "data": {
      "text/plain": [
       "['Loan_ID,Gender,Married,Education,ApplicantIncome,LoanAmount,Property_Area',\n",
       " 'LP001015,Male,Yes,Graduate,5720,110,Urban',\n",
       " 'LP001022,Male,Yes,Graduate,3076,126,Urban',\n",
       " 'LP001031,Male,Yes,Graduate,5000,208,Urban',\n",
       " 'LP001035,Male,Yes,Graduate,2340,100,Urban',\n",
       " 'LP001051,Male,No,Not Graduate,3276,78,Urban',\n",
       " 'LP001054,Male,Yes,Not Graduate,2165,152,Urban',\n",
       " 'LP001055,Female,No,Not Graduate,2226,59,Semiurban',\n",
       " 'LP001056,Male,Yes,Not Graduate,3881,147,Rural',\n",
       " 'LP001059,Male,Yes,Graduate,13633,280,Urban',\n",
       " 'LP001067,Male,No,Not Graduate,2400,123,Semiurban',\n",
       " 'LP001078,Male,No,Not Graduate,3091,90,Urban',\n",
       " 'LP001082,Male,Yes,Graduate,2185,162,Semiurban',\n",
       " 'LP001083,Male,No,Graduate,4166,40,Urban',\n",
       " 'LP001094,Male,Yes,Graduate,12173,166,Semiurban',\n",
       " 'LP001096,Female,No,Graduate,4666,124,Semiurban',\n",
       " 'LP001099,Male,No,Graduate,5667,131,Urban']"
      ]
     },
     "execution_count": 3,
     "metadata": {},
     "output_type": "execute_result"
    }
   ],
   "source": [
    "# Split lines into list.\n",
    "file_data_lines = file_data.split('\\n')\n",
    "file_data_lines"
   ]
  },
  {
   "cell_type": "code",
   "execution_count": 4,
   "metadata": {},
   "outputs": [
    {
     "name": "stdout",
     "output_type": "stream",
     "text": [
      "LP001015,Male,Yes,Graduate,5720,110,Urban\n"
     ]
    },
    {
     "data": {
      "text/plain": [
       "['LP001015', 'Male', 'Yes', 'Graduate', '5720', '110', 'Urban']"
      ]
     },
     "execution_count": 4,
     "metadata": {},
     "output_type": "execute_result"
    }
   ],
   "source": [
    "# Splitting induvidual lines.\n",
    "\n",
    "# The original string representation.\n",
    "print(file_data_lines[1])\n",
    "# The String split into different columns.\n",
    "file_data_lines[1].split(',')"
   ]
  },
  {
   "cell_type": "markdown",
   "metadata": {},
   "source": [
    "#### Creating a List of Lists\n",
    "We need to be able to access every cell and all the values. And for that, we will split every single string rows that are in the list into list of cell values."
   ]
  },
  {
   "cell_type": "code",
   "execution_count": 5,
   "metadata": {},
   "outputs": [],
   "source": [
    "# Create the final cleaned list.\n",
    "cleaned_file = []\n",
    "# Loop to iterate and process each line.\n",
    "for line in file_data_lines:\n",
    "    processed_line = line.split(',')\n",
    "    cleaned_file.append(processed_line)"
   ]
  },
  {
   "cell_type": "code",
   "execution_count": 6,
   "metadata": {
    "scrolled": false
   },
   "outputs": [
    {
     "data": {
      "text/plain": [
       "[['Loan_ID',\n",
       "  'Gender',\n",
       "  'Married',\n",
       "  'Education',\n",
       "  'ApplicantIncome',\n",
       "  'LoanAmount',\n",
       "  'Property_Area'],\n",
       " ['LP001015', 'Male', 'Yes', 'Graduate', '5720', '110', 'Urban'],\n",
       " ['LP001022', 'Male', 'Yes', 'Graduate', '3076', '126', 'Urban'],\n",
       " ['LP001031', 'Male', 'Yes', 'Graduate', '5000', '208', 'Urban'],\n",
       " ['LP001035', 'Male', 'Yes', 'Graduate', '2340', '100', 'Urban'],\n",
       " ['LP001051', 'Male', 'No', 'Not Graduate', '3276', '78', 'Urban'],\n",
       " ['LP001054', 'Male', 'Yes', 'Not Graduate', '2165', '152', 'Urban'],\n",
       " ['LP001055', 'Female', 'No', 'Not Graduate', '2226', '59', 'Semiurban'],\n",
       " ['LP001056', 'Male', 'Yes', 'Not Graduate', '3881', '147', 'Rural'],\n",
       " ['LP001059', 'Male', 'Yes', 'Graduate', '13633', '280', 'Urban'],\n",
       " ['LP001067', 'Male', 'No', 'Not Graduate', '2400', '123', 'Semiurban'],\n",
       " ['LP001078', 'Male', 'No', 'Not Graduate', '3091', '90', 'Urban'],\n",
       " ['LP001082', 'Male', 'Yes', 'Graduate', '2185', '162', 'Semiurban'],\n",
       " ['LP001083', 'Male', 'No', 'Graduate', '4166', '40', 'Urban'],\n",
       " ['LP001094', 'Male', 'Yes', 'Graduate', '12173', '166', 'Semiurban'],\n",
       " ['LP001096', 'Female', 'No', 'Graduate', '4666', '124', 'Semiurban'],\n",
       " ['LP001099', 'Male', 'No', 'Graduate', '5667', '131', 'Urban']]"
      ]
     },
     "execution_count": 6,
     "metadata": {},
     "output_type": "execute_result"
    }
   ],
   "source": [
    "# Display the cleaned list.\n",
    "cleaned_file"
   ]
  },
  {
   "cell_type": "markdown",
   "metadata": {},
   "source": [
    "#### Accessing Data\n",
    "Now that we have represented our data in the form of a 2D matrix. It is very easy for us to access the elements. We can access it easy by:\n",
    "\n",
    "```\n",
    "matrix[row][column]\n",
    "```"
   ]
  },
  {
   "cell_type": "code",
   "execution_count": 7,
   "metadata": {},
   "outputs": [
    {
     "data": {
      "text/plain": [
       "'LP001054'"
      ]
     },
     "execution_count": 7,
     "metadata": {},
     "output_type": "execute_result"
    }
   ],
   "source": [
    "# Accessing LP001054 in the Loan ID.\n",
    "# Access a 2D matrix as matrix[row][column].\n",
    "cleaned_file[6][0]"
   ]
  },
  {
   "cell_type": "markdown",
   "metadata": {},
   "source": [
    "### Representing in a Dictionary.\n",
    "\n",
    "The data can be reperesented in a Python dictionary as follow :\n",
    "```\n",
    "data['column_name'] = [List of values in that particular column]\n",
    "```\n",
    "For that, we will create a dictionary with keys as the column names and data represented as list. Then, we will iterate through the rows containing the data and then append the values of a row to the corresponding keys of the column."
   ]
  },
  {
   "cell_type": "code",
   "execution_count": 13,
   "metadata": {},
   "outputs": [],
   "source": [
    "# Converting the data into a dictionary.\n",
    "# Creating the dicitonary with columns.\n",
    "cols = cleaned_file[0]\n",
    "loan_data_dict = dict.fromkeys(cols)"
   ]
  },
  {
   "cell_type": "code",
   "execution_count": 14,
   "metadata": {},
   "outputs": [],
   "source": [
    "# Initialize the dictionary with empty lists.\n",
    "for column in cols:\n",
    "    loan_data_dict[column] = []"
   ]
  },
  {
   "cell_type": "code",
   "execution_count": 15,
   "metadata": {},
   "outputs": [
    {
     "data": {
      "text/plain": [
       "{'ApplicantIncome': [],\n",
       " 'Education': [],\n",
       " 'Gender': [],\n",
       " 'LoanAmount': [],\n",
       " 'Loan_ID': [],\n",
       " 'Married': [],\n",
       " 'Property_Area': []}"
      ]
     },
     "execution_count": 15,
     "metadata": {},
     "output_type": "execute_result"
    }
   ],
   "source": [
    "# Display the dictionary.\n",
    "loan_data_dict"
   ]
  },
  {
   "cell_type": "code",
   "execution_count": 16,
   "metadata": {},
   "outputs": [],
   "source": [
    "# Append the values to the respective columns.\n",
    "for row in range(1, len(cleaned_file)):\n",
    "    loan_data_dict['Loan_ID'].append(cleaned_file[row][0])\n",
    "    loan_data_dict['Gender'].append(cleaned_file[row][1])\n",
    "    loan_data_dict['Married'].append(cleaned_file[row][2])\n",
    "    loan_data_dict['Education'].append(cleaned_file[row][3])\n",
    "    loan_data_dict['ApplicantIncome'].append(cleaned_file[row][4])\n",
    "    loan_data_dict['LoanAmount'].append(cleaned_file[row][5])\n",
    "    loan_data_dict['Property_Area'].append(cleaned_file[row][6])"
   ]
  },
  {
   "cell_type": "code",
   "execution_count": 17,
   "metadata": {},
   "outputs": [
    {
     "data": {
      "text/plain": [
       "{'ApplicantIncome': ['5720',\n",
       "  '3076',\n",
       "  '5000',\n",
       "  '2340',\n",
       "  '3276',\n",
       "  '2165',\n",
       "  '2226',\n",
       "  '3881',\n",
       "  '13633',\n",
       "  '2400',\n",
       "  '3091',\n",
       "  '2185',\n",
       "  '4166',\n",
       "  '12173',\n",
       "  '4666',\n",
       "  '5667'],\n",
       " 'Education': ['Graduate',\n",
       "  'Graduate',\n",
       "  'Graduate',\n",
       "  'Graduate',\n",
       "  'Not Graduate',\n",
       "  'Not Graduate',\n",
       "  'Not Graduate',\n",
       "  'Not Graduate',\n",
       "  'Graduate',\n",
       "  'Not Graduate',\n",
       "  'Not Graduate',\n",
       "  'Graduate',\n",
       "  'Graduate',\n",
       "  'Graduate',\n",
       "  'Graduate',\n",
       "  'Graduate'],\n",
       " 'Gender': ['Male',\n",
       "  'Male',\n",
       "  'Male',\n",
       "  'Male',\n",
       "  'Male',\n",
       "  'Male',\n",
       "  'Female',\n",
       "  'Male',\n",
       "  'Male',\n",
       "  'Male',\n",
       "  'Male',\n",
       "  'Male',\n",
       "  'Male',\n",
       "  'Male',\n",
       "  'Female',\n",
       "  'Male'],\n",
       " 'LoanAmount': ['110',\n",
       "  '126',\n",
       "  '208',\n",
       "  '100',\n",
       "  '78',\n",
       "  '152',\n",
       "  '59',\n",
       "  '147',\n",
       "  '280',\n",
       "  '123',\n",
       "  '90',\n",
       "  '162',\n",
       "  '40',\n",
       "  '166',\n",
       "  '124',\n",
       "  '131'],\n",
       " 'Loan_ID': ['LP001015',\n",
       "  'LP001022',\n",
       "  'LP001031',\n",
       "  'LP001035',\n",
       "  'LP001051',\n",
       "  'LP001054',\n",
       "  'LP001055',\n",
       "  'LP001056',\n",
       "  'LP001059',\n",
       "  'LP001067',\n",
       "  'LP001078',\n",
       "  'LP001082',\n",
       "  'LP001083',\n",
       "  'LP001094',\n",
       "  'LP001096',\n",
       "  'LP001099'],\n",
       " 'Married': ['Yes',\n",
       "  'Yes',\n",
       "  'Yes',\n",
       "  'Yes',\n",
       "  'No',\n",
       "  'Yes',\n",
       "  'No',\n",
       "  'Yes',\n",
       "  'Yes',\n",
       "  'No',\n",
       "  'No',\n",
       "  'Yes',\n",
       "  'No',\n",
       "  'Yes',\n",
       "  'No',\n",
       "  'No'],\n",
       " 'Property_Area': ['Urban',\n",
       "  'Urban',\n",
       "  'Urban',\n",
       "  'Urban',\n",
       "  'Urban',\n",
       "  'Urban',\n",
       "  'Semiurban',\n",
       "  'Rural',\n",
       "  'Urban',\n",
       "  'Semiurban',\n",
       "  'Urban',\n",
       "  'Semiurban',\n",
       "  'Urban',\n",
       "  'Semiurban',\n",
       "  'Semiurban',\n",
       "  'Urban']}"
      ]
     },
     "execution_count": 17,
     "metadata": {},
     "output_type": "execute_result"
    }
   ],
   "source": [
    "loan_data_dict"
   ]
  },
  {
   "cell_type": "code",
   "execution_count": 20,
   "metadata": {},
   "outputs": [
    {
     "data": {
      "text/plain": [
       "['LP001015',\n",
       " 'LP001022',\n",
       " 'LP001031',\n",
       " 'LP001035',\n",
       " 'LP001051',\n",
       " 'LP001054',\n",
       " 'LP001055',\n",
       " 'LP001056',\n",
       " 'LP001059',\n",
       " 'LP001067',\n",
       " 'LP001078',\n",
       " 'LP001082',\n",
       " 'LP001083',\n",
       " 'LP001094',\n",
       " 'LP001096',\n",
       " 'LP001099']"
      ]
     },
     "execution_count": 20,
     "metadata": {},
     "output_type": "execute_result"
    }
   ],
   "source": [
    "# Accessing just the LoadIds\n",
    "loan_data_dict['Loan_ID']"
   ]
  },
  {
   "cell_type": "markdown",
   "metadata": {},
   "source": [
    "### In conclusion\n",
    "The use of list and Lists and Dictionaries to process data was to give you a very fundamental understanding on how data can be processed and loaded. However, when it comes to huge data, we will need a better and faster framework. Looping poses a serious overhead to performance. We will be discussing more on Numpy and Pandas and discuss how we can load and process data easily and efficiently.\n",
    "\n",
    "This free course on [Udacity](https://classroom.udacity.com/courses/ud170-india) can help understanding data processing in great detail."
   ]
  }
 ],
 "metadata": {
  "kernelspec": {
   "display_name": "Python (tensorflow)",
   "language": "python",
   "name": "tensorflow"
  },
  "language_info": {
   "codemirror_mode": {
    "name": "ipython",
    "version": 3
   },
   "file_extension": ".py",
   "mimetype": "text/x-python",
   "name": "python",
   "nbconvert_exporter": "python",
   "pygments_lexer": "ipython3",
   "version": "3.5.5"
  }
 },
 "nbformat": 4,
 "nbformat_minor": 2
}
