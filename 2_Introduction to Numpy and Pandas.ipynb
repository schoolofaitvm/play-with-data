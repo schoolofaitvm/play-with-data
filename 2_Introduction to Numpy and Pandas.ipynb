{
 "cells": [
  {
   "cell_type": "markdown",
   "metadata": {},
   "source": [
    "## Numpy\n",
    "Numpy is an array like data structure aimed at doing mathematical computations faster."
   ]
  },
  {
   "cell_type": "markdown",
   "metadata": {},
   "source": [
    "##### Array declaration\n",
    "\n",
    "A common array can be represented as,\n",
    "```\n",
    "arr = [1, 2, 3, 4, 5, 6]\n",
    "# We can convert that to a numpy array as,\n",
    "np_arr = np.array(arr)\n",
    "```\n",
    "Looks nothing special?\n",
    "Read on!\n",
    "\n",
    "Numpy array is meant to do complex numerical matrix operations by leveraging [vectorisation](https://en.wikipedia.org/wiki/Vectorization). Looping over an array can take a lot of time. By efficiently using vectorisation, we can do matrix operations a lot faster. This can be used in scientific computing, machine learning and data processing."
   ]
  },
  {
   "cell_type": "code",
   "execution_count": 1,
   "metadata": {},
   "outputs": [],
   "source": [
    "# import the numpy array as follow to get started.\n",
    "import numpy as np"
   ]
  },
  {
   "cell_type": "markdown",
   "metadata": {},
   "source": [
    "#### Speed\n",
    "Like mentioned, Speed is a major advantage for a numpy array. Let us verify this fact by taking two arrays and looping over them and doing a vector operation."
   ]
  },
  {
   "cell_type": "code",
   "execution_count": 20,
   "metadata": {},
   "outputs": [],
   "source": [
    "# we define an array which contains numbers from 1- 100000\n",
    "arr = []\n",
    "for i in range(1, 10000001):\n",
    "    arr.append(i)"
   ]
  },
  {
   "cell_type": "code",
   "execution_count": 17,
   "metadata": {},
   "outputs": [],
   "source": [
    "# we declare the numpy array for the same.\n",
    "numpy_arr = np.array(arr)"
   ]
  },
  {
   "cell_type": "code",
   "execution_count": 18,
   "metadata": {},
   "outputs": [],
   "source": [
    "# We are going to double the values in both the array and clock the time taken by both the operations.\n",
    "import time"
   ]
  },
  {
   "cell_type": "code",
   "execution_count": 29,
   "metadata": {},
   "outputs": [
    {
     "name": "stdout",
     "output_type": "stream",
     "text": [
      "Ending time = 0.11598682403564453\n"
     ]
    }
   ],
   "source": [
    "# For a normal Array\n",
    "\n",
    "start_time = time.time()\n",
    "\n",
    "for i in range(0, 1000000):\n",
    "    arr[i] = 2*arr[i]\n",
    "\n",
    "total_time_norm = time.time()-start_time\n",
    "print('Ending time = {}'.format(total_time_norm))"
   ]
  },
  {
   "cell_type": "code",
   "execution_count": 30,
   "metadata": {},
   "outputs": [
    {
     "name": "stdout",
     "output_type": "stream",
     "text": [
      "Ending time = 0.033846378326416016\n"
     ]
    }
   ],
   "source": [
    "# For a numpy array.\n",
    "\n",
    "start_time = time.time()\n",
    "\n",
    "numpy_arr = 2*numpy_arr\n",
    "\n",
    "total_time_np = time.time()-start_time\n",
    "print('Ending time = {}'.format(total_time_np))"
   ]
  },
  {
   "cell_type": "code",
   "execution_count": 31,
   "metadata": {},
   "outputs": [
    {
     "data": {
      "text/plain": [
       "3.4268607092038716"
      ]
     },
     "execution_count": 31,
     "metadata": {},
     "output_type": "execute_result"
    }
   ],
   "source": [
    "total_time_norm/total_time_np"
   ]
  },
  {
   "cell_type": "markdown",
   "metadata": {},
   "source": [
    "##### Result\n",
    "As we can see, the time taken is 3 times less when we use vectorisation operations. So it makes sense to process the data using numpy instead of a regular array."
   ]
  },
  {
   "cell_type": "markdown",
   "metadata": {},
   "source": [
    "#### Other features\n",
    "\n",
    "The main features of numpy besides being able to do vector math, is that it has built in fuctions to compute statistical values like mean, median, sum, etc."
   ]
  },
  {
   "cell_type": "code",
   "execution_count": 34,
   "metadata": {},
   "outputs": [
    {
     "data": {
      "text/plain": [
       "160000016.0"
      ]
     },
     "execution_count": 34,
     "metadata": {},
     "output_type": "execute_result"
    }
   ],
   "source": [
    "#Computing the mean\n",
    "numpy_arr.mean()"
   ]
  },
  {
   "cell_type": "markdown",
   "metadata": {},
   "source": [
    "You can read more about [numpy](https://docs.scipy.org/doc/). If that looks too overwhelming, you can refer the free Udacity course I had mentioned. They provide a very detailed overview about numpy. And the rest, comes with practice."
   ]
  },
  {
   "cell_type": "markdown",
   "metadata": {},
   "source": [
    "## Pandas\n",
    "\n",
    "Numpy just made computation faster. Can life get more easier? Yes it can. And that is where pandas comes into play.\n",
    "Pandas provides a data structure called pandas frame for exclusively storing spread sheet style data, processing as fast as numpy and also giving much more functionality and easy syntax! How cool right? Let's dive in."
   ]
  },
  {
   "cell_type": "markdown",
   "metadata": {},
   "source": [
    "#### Loading in csv's and making our lives easier.\n",
    "\n",
    "The last notebook was all about opening and reading the document and processing with Loops after Loops after Loops!\n",
    "Well in this notebook, we will show you how you can do that in a single line."
   ]
  },
  {
   "cell_type": "code",
   "execution_count": null,
   "metadata": {},
   "outputs": [],
   "source": []
  }
 ],
 "metadata": {
  "kernelspec": {
   "display_name": "Python (tensorflow)",
   "language": "python",
   "name": "tensorflow"
  },
  "language_info": {
   "codemirror_mode": {
    "name": "ipython",
    "version": 3
   },
   "file_extension": ".py",
   "mimetype": "text/x-python",
   "name": "python",
   "nbconvert_exporter": "python",
   "pygments_lexer": "ipython3",
   "version": "3.5.5"
  }
 },
 "nbformat": 4,
 "nbformat_minor": 2
}
